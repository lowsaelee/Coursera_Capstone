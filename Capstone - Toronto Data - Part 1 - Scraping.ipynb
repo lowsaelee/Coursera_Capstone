{
 "cells": [
  {
   "cell_type": "markdown",
   "metadata": {
    "collapsed": true
   },
   "source": [
    "Importing Pandas, BeautifulSoup and requests"
   ]
  },
  {
   "cell_type": "code",
   "execution_count": 2,
   "metadata": {},
   "outputs": [],
   "source": [
    "import pandas as pd\n",
    "from bs4 import BeautifulSoup\n",
    "import requests"
   ]
  },
  {
   "cell_type": "markdown",
   "metadata": {},
   "source": [
    "Setting the variable for the Wiki webpage and parsing it with LXML"
   ]
  },
  {
   "cell_type": "code",
   "execution_count": 3,
   "metadata": {},
   "outputs": [],
   "source": [
    "source = requests.get('https://en.wikipedia.org/wiki/List_of_postal_codes_of_Canada:_M').text\n",
    "soup = BeautifulSoup(source, 'lxml')"
   ]
  },
  {
   "cell_type": "markdown",
   "metadata": {},
   "source": [
    "Data Wrangling"
   ]
  },
  {
   "cell_type": "code",
   "execution_count": 4,
   "metadata": {},
   "outputs": [],
   "source": [
    "toronto_ps = []\n",
    "\n",
    "for td in soup.find_all('td'):\n",
    "    postalCode = td.b.text\n",
    "    bor_nei = td.span.text\n",
    "    nhoodvalue = 0\n",
    "    if bor_nei != \"Not assigned\":\n",
    "        bor_nei2 = bor_nei.split('(')\n",
    "        borough = bor_nei2[0]\n",
    "        # Removing special conditions of addresses in Boroughs\n",
    "        borough = borough.replace(\"Business reply mail Processing Centre969 Eastern\",\"\")\n",
    "        borough = borough.replace(\"Stn A PO Boxes25 The Esplanade\",\"\")\n",
    "        borough = borough.replace(\"Canada Post Gateway Processing Centre\",\"\")\n",
    "        borough = borough.replace(\"East YorkEast Toronto\",\"East York\")\n",
    "        \n",
    "        try:\n",
    "            nhood = bor_nei2[1].replace(' / ',', ')\n",
    "            nhood = nhood.split(')')[0]\n",
    "            nhoodvalue = 1\n",
    "        except Exception as e:\n",
    "            nhood = borough\n",
    "    else:\n",
    "        borough = \"Not assigned\"\n",
    "\n",
    "    if nhoodvalue == 1:\n",
    "        if borough != \"Not assigned\":\n",
    "            toronto_ps.append([postalCode,borough,nhood])\n",
    "    else:\n",
    "        if borough != \"Not assigned\":\n",
    "            toronto_ps.append([postalCode,borough,borough])\n",
    "        \n",
    "    # breaks after it gets loops to the last postal code\n",
    "    if postalCode == \"M9Z\":\n",
    "        break"
   ]
  },
  {
   "cell_type": "markdown",
   "metadata": {},
   "source": [
    "Create Pandas Dataframe from list"
   ]
  },
  {
   "cell_type": "code",
   "execution_count": 6,
   "metadata": {},
   "outputs": [
    {
     "data": {
      "text/html": [
       "<div>\n",
       "<style scoped>\n",
       "    .dataframe tbody tr th:only-of-type {\n",
       "        vertical-align: middle;\n",
       "    }\n",
       "\n",
       "    .dataframe tbody tr th {\n",
       "        vertical-align: top;\n",
       "    }\n",
       "\n",
       "    .dataframe thead th {\n",
       "        text-align: right;\n",
       "    }\n",
       "</style>\n",
       "<table border=\"1\" class=\"dataframe\">\n",
       "  <thead>\n",
       "    <tr style=\"text-align: right;\">\n",
       "      <th></th>\n",
       "      <th>PostalCode</th>\n",
       "      <th>Borough</th>\n",
       "      <th>Neighborhood</th>\n",
       "    </tr>\n",
       "  </thead>\n",
       "  <tbody>\n",
       "    <tr>\n",
       "      <th>0</th>\n",
       "      <td>M3A</td>\n",
       "      <td>North York</td>\n",
       "      <td>Parkwoods</td>\n",
       "    </tr>\n",
       "    <tr>\n",
       "      <th>1</th>\n",
       "      <td>M4A</td>\n",
       "      <td>North York</td>\n",
       "      <td>Victoria Village</td>\n",
       "    </tr>\n",
       "    <tr>\n",
       "      <th>2</th>\n",
       "      <td>M5A</td>\n",
       "      <td>Downtown Toronto</td>\n",
       "      <td>Regent Park, Harbourfront</td>\n",
       "    </tr>\n",
       "    <tr>\n",
       "      <th>3</th>\n",
       "      <td>M6A</td>\n",
       "      <td>North York</td>\n",
       "      <td>Lawrence Manor, Lawrence Heights</td>\n",
       "    </tr>\n",
       "    <tr>\n",
       "      <th>4</th>\n",
       "      <td>M7A</td>\n",
       "      <td>Queen's Park / Ontario Provincial Government</td>\n",
       "      <td>Queen's Park / Ontario Provincial Government</td>\n",
       "    </tr>\n",
       "  </tbody>\n",
       "</table>\n",
       "</div>"
      ],
      "text/plain": [
       "  PostalCode                                       Borough  \\\n",
       "0        M3A                                    North York   \n",
       "1        M4A                                    North York   \n",
       "2        M5A                              Downtown Toronto   \n",
       "3        M6A                                    North York   \n",
       "4        M7A  Queen's Park / Ontario Provincial Government   \n",
       "\n",
       "                                   Neighborhood  \n",
       "0                                     Parkwoods  \n",
       "1                              Victoria Village  \n",
       "2                     Regent Park, Harbourfront  \n",
       "3              Lawrence Manor, Lawrence Heights  \n",
       "4  Queen's Park / Ontario Provincial Government  "
      ]
     },
     "execution_count": 6,
     "metadata": {},
     "output_type": "execute_result"
    }
   ],
   "source": [
    "df = pd.DataFrame(toronto_ps,columns=['PostalCode','Borough','Neighborhood'])\n",
    "\n",
    "df.head(5)"
   ]
  },
  {
   "cell_type": "markdown",
   "metadata": {},
   "source": [
    "Get the shape of the dataframe"
   ]
  },
  {
   "cell_type": "code",
   "execution_count": 7,
   "metadata": {},
   "outputs": [
    {
     "data": {
      "text/plain": [
       "(103, 3)"
      ]
     },
     "execution_count": 7,
     "metadata": {},
     "output_type": "execute_result"
    }
   ],
   "source": [
    "df.shape"
   ]
  },
  {
   "cell_type": "code",
   "execution_count": null,
   "metadata": {},
   "outputs": [],
   "source": []
  }
 ],
 "metadata": {
  "kernelspec": {
   "display_name": "Python 3.6",
   "language": "python",
   "name": "python3"
  },
  "language_info": {
   "codemirror_mode": {
    "name": "ipython",
    "version": 3
   },
   "file_extension": ".py",
   "mimetype": "text/x-python",
   "name": "python",
   "nbconvert_exporter": "python",
   "pygments_lexer": "ipython3",
   "version": "3.6.9"
  }
 },
 "nbformat": 4,
 "nbformat_minor": 1
}
